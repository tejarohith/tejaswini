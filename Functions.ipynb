{
 "cells": [
  {
   "cell_type": "code",
   "execution_count": 3,
   "id": "7c0c5db6",
   "metadata": {},
   "outputs": [
    {
     "ename": "NameError",
     "evalue": "name 'attendance_data' is not defined",
     "output_type": "error",
     "traceback": [
      "\u001b[1;31m---------------------------------------------------------------------------\u001b[0m",
      "\u001b[1;31mNameError\u001b[0m                                 Traceback (most recent call last)",
      "Cell \u001b[1;32mIn[3], line 7\u001b[0m\n\u001b[0;32m      4\u001b[0m \u001b[38;5;66;03m###Kindly follow the instructions  before code submission\u001b[39;00m\n\u001b[0;32m      5\u001b[0m \u001b[38;5;66;03m#Write your code here\u001b[39;00m\n\u001b[0;32m      6\u001b[0m \u001b[38;5;28;01mfor\u001b[39;00m i \u001b[38;5;129;01min\u001b[39;00m \u001b[38;5;28mrange\u001b[39m(N):\n\u001b[1;32m----> 7\u001b[0m     \u001b[38;5;28;01mif\u001b[39;00m attendance_data[i] \u001b[38;5;241m==\u001b[39m \u001b[38;5;124m\"\u001b[39m\u001b[38;5;124mP\u001b[39m\u001b[38;5;124m\"\u001b[39m:\n\u001b[0;32m      8\u001b[0m         Pcount \u001b[38;5;241m+\u001b[39m\u001b[38;5;241m=\u001b[39m \u001b[38;5;241m1\u001b[39m\n\u001b[0;32m      9\u001b[0m     \u001b[38;5;28;01melif\u001b[39;00m attendance_data[i] \u001b[38;5;241m==\u001b[39m \u001b[38;5;124m\"\u001b[39m\u001b[38;5;124mH\u001b[39m\u001b[38;5;124m\"\u001b[39m:\n",
      "\u001b[1;31mNameError\u001b[0m: name 'attendance_data' is not defined"
     ]
    }
   ],
   "source": [
    "N = 3 #-->This is a constant Do not delete this code during submission\n",
    "Pcount = 0 #-->This is a constant Do not delete this code during submission\n",
    "Hcount = 0 #-->This is a constant Do not delete this code during submission\n",
    "###Kindly follow the instructions  before code submission\n",
    "#Write your code here\n",
    "for i in range(N):\n",
    "    if attendance_data[i] == \"P\":\n",
    "        Pcount += 1\n",
    "    elif attendance_data[i] == \"H\":\n",
    "        Hcount += 1\n",
    "Acount = N - Pcount - Hcount\n",
    "\n",
    "# Display information\n",
    "print(\"Total employees:\", N)\n",
    "print(\"Total attendance for employees:\", Pcount)\n",
    "print(\"Total number of employees on holiday:\", Hcount)\n",
    "print(\"Total number of absent employees:\", Acount)        "
   ]
  },
  {
   "cell_type": "code",
   "execution_count": null,
   "id": "aa186259",
   "metadata": {},
   "outputs": [],
   "source": []
  },
  {
   "cell_type": "code",
   "execution_count": null,
   "id": "5891eb5b",
   "metadata": {},
   "outputs": [],
   "source": []
  }
 ],
 "metadata": {
  "kernelspec": {
   "display_name": "Python 3 (ipykernel)",
   "language": "python",
   "name": "python3"
  },
  "language_info": {
   "codemirror_mode": {
    "name": "ipython",
    "version": 3
   },
   "file_extension": ".py",
   "mimetype": "text/x-python",
   "name": "python",
   "nbconvert_exporter": "python",
   "pygments_lexer": "ipython3",
   "version": "3.11.5"
  }
 },
 "nbformat": 4,
 "nbformat_minor": 5
}
