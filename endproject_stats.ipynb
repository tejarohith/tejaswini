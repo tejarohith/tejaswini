{
 "cells": [
  {
   "cell_type": "code",
   "execution_count": 37,
   "id": "7af651b1",
   "metadata": {},
   "outputs": [],
   "source": [
    "import pandas as pd\n",
    "import numpy as np\n",
    "df=pd.read_csv('Quality Assessment .csv')"
   ]
  },
  {
   "cell_type": "code",
   "execution_count": 2,
   "id": "350f7de1",
   "metadata": {},
   "outputs": [
    {
     "data": {
      "text/plain": [
       "Id                    0\n",
       "Assembly Line         0\n",
       "Quantity (lts.)       6\n",
       "CO2 dissolved         0\n",
       "Time limit Crossed    0\n",
       "dtype: int64"
      ]
     },
     "execution_count": 2,
     "metadata": {},
     "output_type": "execute_result"
    }
   ],
   "source": [
    "df.isnull().sum()"
   ]
  },
  {
   "cell_type": "code",
   "execution_count": 3,
   "id": "372beabc",
   "metadata": {},
   "outputs": [
    {
     "data": {
      "text/plain": [
       "0"
      ]
     },
     "execution_count": 3,
     "metadata": {},
     "output_type": "execute_result"
    }
   ],
   "source": [
    "df.duplicated().sum()"
   ]
  },
  {
   "cell_type": "code",
   "execution_count": 4,
   "id": "d11f8bc7",
   "metadata": {},
   "outputs": [
    {
     "name": "stdout",
     "output_type": "stream",
     "text": [
      "1.997947127\n"
     ]
    }
   ],
   "source": [
    " median=df['Quantity (lts.)'].median()\n",
    "print(median)"
   ]
  },
  {
   "cell_type": "code",
   "execution_count": null,
   "id": "a38fa161",
   "metadata": {},
   "outputs": [],
   "source": []
  },
  {
   "cell_type": "code",
   "execution_count": 5,
   "id": "d8c0c02f",
   "metadata": {},
   "outputs": [
    {
     "name": "stdout",
     "output_type": "stream",
     "text": [
      "147.92752395000002\n"
     ]
    }
   ],
   "source": [
    "range=df['CO2 dissolved'].max()-df['CO2 dissolved'].min()\n",
    "print(range)"
   ]
  },
  {
   "cell_type": "code",
   "execution_count": 6,
   "id": "e961490b",
   "metadata": {},
   "outputs": [
    {
     "name": "stdout",
     "output_type": "stream",
     "text": [
      "10.063504929999997\n",
      "18.18534705\n"
     ]
    }
   ],
   "source": [
    "Q1 = df['CO2 dissolved'].quantile(0.25)\n",
    "Q3 = df['CO2 dissolved'].quantile(0.75)\n",
    "IQR = Q3 - Q1\n",
    "\n",
    "# Define the upper and lower cutoff values\n",
    "lower_cutoff = Q1 - 1.5 * IQR\n",
    "upper_cutoff = Q3 + 1.5 * IQR\n",
    "print(lower_cutoff)\n",
    "print(upper_cutoff)\n",
    "\n",
    "filtered_df =df[(df['CO2 dissolved'] >= lower_cutoff) & (df['CO2 dissolved'] <= upper_cutoff)]"
   ]
  },
  {
   "cell_type": "code",
   "execution_count": 7,
   "id": "fa1a79da",
   "metadata": {},
   "outputs": [
    {
     "name": "stdout",
     "output_type": "stream",
     "text": [
      "1.8753443490000001\n",
      "2.1234192689999998\n"
     ]
    }
   ],
   "source": [
    "Q1 = df['Quantity (lts.)'].quantile(0.25)\n",
    "Q3 = df['Quantity (lts.)'].quantile(0.75)\n",
    "IQR = Q3 - Q1\n",
    "\n",
    "# Define the upper and lower cutoff values\n",
    "lower_cutoff = Q1 - 1.5 * IQR\n",
    "upper_cutoff = Q3 + 1.5 * IQR\n",
    "print(lower_cutoff)\n",
    "print(upper_cutoff)\n",
    "\n",
    "filtered_df1=df[(df['CO2 dissolved'] >= lower_cutoff) & (df['CO2 dissolved'] <= upper_cutoff)]"
   ]
  },
  {
   "cell_type": "code",
   "execution_count": 8,
   "id": "f7544594",
   "metadata": {},
   "outputs": [
    {
     "data": {
      "text/plain": [
       "4"
      ]
     },
     "execution_count": 8,
     "metadata": {},
     "output_type": "execute_result"
    }
   ],
   "source": [
    "df['Assembly Line'].nunique()"
   ]
  },
  {
   "cell_type": "code",
   "execution_count": 9,
   "id": "e3f6b6f3",
   "metadata": {},
   "outputs": [
    {
     "name": "stdout",
     "output_type": "stream",
     "text": [
      "Time: 0      0\n",
      "1      0\n",
      "2      0\n",
      "3      0\n",
      "4      0\n",
      "      ..\n",
      "294    0\n",
      "295    1\n",
      "296    0\n",
      "297    1\n",
      "298    1\n",
      "Name: Time limit Crossed, Length: 299, dtype: category\n",
      "Categories (2, int64): [0, 1]\n",
      "assembly: 0      B\n",
      "1      B\n",
      "2      A\n",
      "3      A\n",
      "4      B\n",
      "      ..\n",
      "294    A\n",
      "295    B\n",
      "296    B\n",
      "297    B\n",
      "298    a\n",
      "Name: Assembly Line, Length: 299, dtype: category\n",
      "Categories (4, object): ['A', 'B', 'a', 'b']\n"
     ]
    }
   ],
   "source": [
    "Time=df['Time limit Crossed'].astype('category')\n",
    "assembly=df['Assembly Line'].astype('category')\n",
    "print(\"Time:\",Time)\n",
    "print(\"assembly:\",assembly)"
   ]
  },
  {
   "cell_type": "code",
   "execution_count": null,
   "id": "8ea154bf",
   "metadata": {},
   "outputs": [],
   "source": []
  },
  {
   "cell_type": "code",
   "execution_count": 10,
   "id": "b1c380fe",
   "metadata": {},
   "outputs": [],
   "source": [
    "df['Assembly Line']=df['Assembly Line'].replace({'A':'a','B':'b'})\n"
   ]
  },
  {
   "cell_type": "code",
   "execution_count": 11,
   "id": "b21d8e94",
   "metadata": {},
   "outputs": [
    {
     "data": {
      "text/plain": [
       "2"
      ]
     },
     "execution_count": 11,
     "metadata": {},
     "output_type": "execute_result"
    }
   ],
   "source": [
    "df['Assembly Line'].nunique()"
   ]
  },
  {
   "cell_type": "code",
   "execution_count": 12,
   "id": "3583837b",
   "metadata": {},
   "outputs": [
    {
     "name": "stdout",
     "output_type": "stream",
     "text": [
      "0      1.971072\n",
      "1      2.073388\n",
      "2      2.019492\n",
      "3      2.004422\n",
      "4      2.025784\n",
      "         ...   \n",
      "294    1.974539\n",
      "295    1.974851\n",
      "296    1.991623\n",
      "297    1.935333\n",
      "298    2.007043\n",
      "Name: Quantity (lts.), Length: 299, dtype: float64\n"
     ]
    }
   ],
   "source": [
    "mean_quan=df['Quantity (lts.)'].mean()\n",
    "df['Quantity (lts.)']=df['Quantity (lts.)'].fillna(mean_quan)\n",
    "print(df['Quantity (lts.)'])"
   ]
  },
  {
   "cell_type": "code",
   "execution_count": 13,
   "id": "ac27070f",
   "metadata": {},
   "outputs": [
    {
     "name": "stdout",
     "output_type": "stream",
     "text": [
      "1.8777194777500001\n",
      "2.12145048775\n"
     ]
    }
   ],
   "source": [
    "Q1 = df['Quantity (lts.)'].quantile(0.25)\n",
    "Q3 = df['Quantity (lts.)'].quantile(0.75)\n",
    "IQR = Q3 - Q1\n",
    "\n",
    "# Define the upper and lower cutoff values\n",
    "lower_cutoff = Q1 - 1.5 * IQR\n",
    "upper_cutoff = Q3 + 1.5 * IQR\n",
    "print(lower_cutoff)\n",
    "print(upper_cutoff)\n",
    "\n",
    "filtered_df2=df[(df['CO2 dissolved'] >= lower_cutoff) & (df['CO2 dissolved'] <= upper_cutoff)]"
   ]
  },
  {
   "cell_type": "code",
   "execution_count": null,
   "id": "b204a591",
   "metadata": {},
   "outputs": [],
   "source": [
    "3"
   ]
  },
  {
   "cell_type": "code",
   "execution_count": 14,
   "id": "1cb8c75b",
   "metadata": {},
   "outputs": [
    {
     "data": {
      "text/plain": [
       "54"
      ]
     },
     "execution_count": 14,
     "metadata": {},
     "output_type": "execute_result"
    }
   ],
   "source": [
    "df['Time limit Crossed'].sum()"
   ]
  },
  {
   "cell_type": "code",
   "execution_count": 15,
   "id": "8788b831",
   "metadata": {},
   "outputs": [
    {
     "name": "stderr",
     "output_type": "stream",
     "text": [
      "C:\\Users\\91850\\AppData\\Local\\Temp\\ipykernel_33188\\2156662226.py:6: UserWarning: \n",
      "\n",
      "`distplot` is a deprecated function and will be removed in seaborn v0.14.0.\n",
      "\n",
      "Please adapt your code to use either `displot` (a figure-level function with\n",
      "similar flexibility) or `histplot` (an axes-level function for histograms).\n",
      "\n",
      "For a guide to updating your code to use the new functions, please see\n",
      "https://gist.github.com/mwaskom/de44147ed2974457ad6372750bbe5751\n",
      "\n",
      "  sns.distplot(df['Quantity (lts.)'], ax=ax[0])\n"
     ]
    },
    {
     "data": {
      "image/png": "[encoded data removed]",
      "text/plain": [
       "<Figure size 800x300 with 2 Axes>"
      ]
     },
     "metadata": {},
     "output_type": "display_data"
    }
   ],
   "source": [
    "import matplotlib.pyplot as plt\n",
    "import seaborn as sns\n",
    "\n",
    "_, ax = plt.subplots(ncols=2, figsize=(8, 3))\n",
    "\n",
    "sns.distplot(df['Quantity (lts.)'], ax=ax[0])\n",
    "ax[0].set_title('Quantity (lts.)')\n",
    "\n",
    "sns.boxplot(df['Quantity (lts.)'], ax=ax[1])\n",
    "ax[1].set_title('Quantity (lts.)')\n",
    "\n",
    "plt.show()"
   ]
  },
  {
   "cell_type": "code",
   "execution_count": 16,
   "id": "8437033d",
   "metadata": {},
   "outputs": [
    {
     "data": {
      "image/png": "[encoded data removed]",
      "text/plain": [
       "<Figure size 1000x500 with 2 Axes>"
      ]
     },
     "metadata": {},
     "output_type": "display_data"
    }
   ],
   "source": [
    "temp = df.groupby('Assembly Line').agg({'Time limit Crossed': ['sum', 'count']}).reset_index()\n",
    "temp.columns = ['Assemble Line', 'Total Events', 'Total observations']\n",
    "temp['Proportion'] = temp['Total Events'] / temp['Total observations']\n",
    "temp\n",
    "\n",
    "\n",
    "ax1 = sns.set_style(style=None, rc=None )\n",
    "\n",
    "fig, ax1 = plt.subplots(figsize=(10,5))\n",
    "\n",
    "sns.lineplot(data = temp['Proportion'], marker='o', sort = False, ax=ax1)\n",
    "ax2 = ax1.twinx()\n",
    "\n",
    "sns.barplot(data = temp, x='Assemble Line', y='Total observations', alpha=0.5, ax=ax2)\n",
    "ax1.set_xlabel('Assembly Line')\n",
    "ax1.set_ylabel('Proportions for line plot')\n",
    "ax2.set_ylabel('Observations for bar plot')\n",
    "plt.show()"
   ]
  },
  {
   "cell_type": "code",
   "execution_count": 17,
   "id": "da7b7677",
   "metadata": {},
   "outputs": [
    {
     "name": "stdout",
     "output_type": "stream",
     "text": [
      "0.04698327968625289\n"
     ]
    }
   ],
   "source": [
    "df_corr = df.dropna(subset=['CO2 dissolved', 'Quantity (lts.)'])\n",
    "\n",
    "# Calculate the correlation coefficient\n",
    "correlation_coefficient = df_corr['CO2 dissolved'].corr(df_corr['Quantity (lts.)'])\n",
    "print(correlation_coefficient)"
   ]
  },
  {
   "cell_type": "code",
   "execution_count": 18,
   "id": "e83e8643",
   "metadata": {},
   "outputs": [
    {
     "data": {
      "image/png": "[encoded data removed]",
      "text/plain": [
       "<Figure size 640x480 with 1 Axes>"
      ]
     },
     "metadata": {},
     "output_type": "display_data"
    }
   ],
   "source": [
    "summ = pd.pivot_table(data = df, index = 'Assembly Line', values = 'CO2 dissolved', aggfunc='mean').reset_index()\n",
    "sns.barplot(data=summ, x = 'Assembly Line', y = 'CO2 dissolved')\n",
    "plt.ylabel('CO2 dissolved')\n",
    "plt.show()"
   ]
  },
  {
   "cell_type": "code",
   "execution_count": null,
   "id": "04c0e707",
   "metadata": {},
   "outputs": [],
   "source": [
    "Part 2) Identifying and excluding the outliers!"
   ]
  },
  {
   "cell_type": "code",
   "execution_count": 19,
   "id": "febb6985",
   "metadata": {},
   "outputs": [
    {
     "name": "stdout",
     "output_type": "stream",
     "text": [
      "10.063504929999997\n",
      "18.18534705\n"
     ]
    }
   ],
   "source": [
    "Q1 = df['CO2 dissolved'].quantile(0.25)\n",
    "Q3 = df['CO2 dissolved'].quantile(0.75)\n",
    "IQR = Q3 - Q1\n",
    "\n",
    "# Define the upper and lower cutoff values\n",
    "lower_cutoff = Q1 - 1.5 * IQR\n",
    "upper_cutoff = Q3 + 1.5 * IQR\n",
    "print(lower_cutoff)\n",
    "print(upper_cutoff)\n",
    "\n",
    "filtered_df2=df[(df['CO2 dissolved'] >= lower_cutoff) & (df['CO2 dissolved'] <= upper_cutoff)]"
   ]
  },
  {
   "cell_type": "code",
   "execution_count": 20,
   "id": "8c326ee9",
   "metadata": {},
   "outputs": [
    {
     "name": "stdout",
     "output_type": "stream",
     "text": [
      "14.046175397030717\n"
     ]
    }
   ],
   "source": [
    "mean_after_treatment = filtered_df2['CO2 dissolved'].mean()\n",
    "print(mean_after_treatment)"
   ]
  },
  {
   "cell_type": "code",
   "execution_count": null,
   "id": "80970f52",
   "metadata": {},
   "outputs": [],
   "source": [
    " 3  Understanding probability distributions and interval estimates"
   ]
  },
  {
   "cell_type": "code",
   "execution_count": 21,
   "id": "d57886f3",
   "metadata": {},
   "outputs": [
    {
     "name": "stdout",
     "output_type": "stream",
     "text": [
      "Time limit Crossed         0         1\n",
      "Assembly Line                         \n",
      "a                   0.856115  0.143885\n",
      "b                   0.787500  0.212500\n"
     ]
    }
   ],
   "source": [
    "time_limit_counts = df.groupby('Assembly Line')['Time limit Crossed'].value_counts().unstack().fillna(0)\n",
    "\n",
    "# Calculate probabilities\n",
    "probabilities = time_limit_counts.div(time_limit_counts.sum(axis=1), axis=0)\n",
    "print(probabilities)"
   ]
  },
  {
   "cell_type": "code",
   "execution_count": 22,
   "id": "148609d8",
   "metadata": {},
   "outputs": [
    {
     "data": {
      "text/plain": [
       "0.1377029900087001"
      ]
     },
     "execution_count": 22,
     "metadata": {},
     "output_type": "execute_result"
    }
   ],
   "source": [
    "from scipy import stats\n",
    "p=0.21\n",
    "n=50\n",
    "k=10\n",
    "binomial = stats.binom.pmf(k,n,p)\n",
    "binomial"
   ]
  },
  {
   "cell_type": "code",
   "execution_count": 23,
   "id": "877c0cec",
   "metadata": {},
   "outputs": [
    {
     "data": {
      "text/plain": [
       "0.07126645856030406"
      ]
     },
     "execution_count": 23,
     "metadata": {},
     "output_type": "execute_result"
    }
   ],
   "source": [
    "p=0.14\n",
    "n=50\n",
    "k=10\n",
    "binomial = stats.binom.pmf(k,n,p)\n",
    "binomial"
   ]
  },
  {
   "cell_type": "code",
   "execution_count": 27,
   "id": "f4e69396",
   "metadata": {},
   "outputs": [
    {
     "name": "stdout",
     "output_type": "stream",
     "text": [
      "0.6241344530308617\n"
     ]
    }
   ],
   "source": [
    "from scipy.stats import binom\n",
    "p=0.21\n",
    "n=50\n",
    "k=9\n",
    "\n",
    "probability_50_both1 =1- binom.cdf(k,n,p)\n",
    "print(probability_50_both1)\n"
   ]
  },
  {
   "cell_type": "code",
   "execution_count": 28,
   "id": "3ae34d3e",
   "metadata": {},
   "outputs": [
    {
     "name": "stdout",
     "output_type": "stream",
     "text": [
      "0.15367658866105716\n"
     ]
    }
   ],
   "source": [
    "p=0.14\n",
    "n=50\n",
    "k=9\n",
    "\n",
    "probability_50_both2 =1- binom.cdf(k,n,p)\n",
    "print(probability_50_both2)\n"
   ]
  },
  {
   "cell_type": "code",
   "execution_count": 29,
   "id": "cd4cca78",
   "metadata": {},
   "outputs": [
    {
     "name": "stdout",
     "output_type": "stream",
     "text": [
      "1.9979921506177474\n",
      "0.04802650818000253\n"
     ]
    }
   ],
   "source": [
    "mean_quan=df['Quantity (lts.)'].mean()\n",
    "sd_quan=df['Quantity (lts.)'].std()\n",
    "print(mean_quan)\n",
    "print(sd_quan)"
   ]
  },
  {
   "cell_type": "code",
   "execution_count": 30,
   "id": "864a695e",
   "metadata": {},
   "outputs": [
    {
     "data": {
      "text/plain": [
       "0.037491895688478494"
      ]
     },
     "execution_count": 30,
     "metadata": {},
     "output_type": "execute_result"
    }
   ],
   "source": [
    "Prob1  =  stats.norm.cdf(1.9,loc=mean_quan,scale=sd_quan)\n",
    "Prob2  =  1 - stats.norm.cdf(2.1,loc=mean_quan,scale=sd_quan)\n",
    "Prob1 + Prob2"
   ]
  },
  {
   "cell_type": "code",
   "execution_count": 32,
   "id": "fdd388d8",
   "metadata": {},
   "outputs": [
    {
     "data": {
      "text/plain": [
       "0.7017449150645626"
      ]
     },
     "execution_count": 32,
     "metadata": {},
     "output_type": "execute_result"
    }
   ],
   "source": [
    "Prob = stats.norm.cdf(2.05,loc=mean_quan,scale=sd_quan) - stats.norm.cdf(1.95,loc=mean_quan,scale=sd_quan)\n",
    "Prob"
   ]
  },
  {
   "cell_type": "code",
   "execution_count": 55,
   "id": "40bf6382",
   "metadata": {},
   "outputs": [
    {
     "ename": "TypeError",
     "evalue": "can't multiply sequence by non-int of type 'float'",
     "output_type": "error",
     "traceback": [
      "\u001b[1;31m---------------------------------------------------------------------------\u001b[0m",
      "\u001b[1;31mTypeError\u001b[0m                                 Traceback (most recent call last)",
      "Cell \u001b[1;32mIn[55], line 14\u001b[0m\n\u001b[0;32m     11\u001b[0m z_score \u001b[38;5;241m=\u001b[39m stats\u001b[38;5;241m.\u001b[39mnorm\u001b[38;5;241m.\u001b[39mppf((\u001b[38;5;241m1\u001b[39m \u001b[38;5;241m+\u001b[39m confidence_level) \u001b[38;5;241m/\u001b[39m \u001b[38;5;241m2\u001b[39m)\n\u001b[0;32m     13\u001b[0m \u001b[38;5;66;03m# Calculate the margin of error\u001b[39;00m\n\u001b[1;32m---> 14\u001b[0m margin_of_error \u001b[38;5;241m=\u001b[39m(z_score,degrees_of_freedom) \u001b[38;5;241m*\u001b[39m (sd_quan\u001b[38;5;241m/\u001b[39m (n_observations \u001b[38;5;241m*\u001b[39m\u001b[38;5;241m*\u001b[39m \u001b[38;5;241m0.5\u001b[39m))\n\u001b[0;32m     16\u001b[0m \u001b[38;5;66;03m# Calculate the confidence interval\u001b[39;00m\n\u001b[0;32m     17\u001b[0m confidence_interval_lower \u001b[38;5;241m=\u001b[39m mean_quan \u001b[38;5;241m-\u001b[39m margin_of_error\n",
      "\u001b[1;31mTypeError\u001b[0m: can't multiply sequence by non-int of type 'float'"
     ]
    }
   ],
   "source": [
    "mean_quan=df['Quantity (lts.)'].mean()\n",
    "sd_quan=df['Quantity (lts.)'].std()\n",
    "\n",
    "# Number of observations\n",
    "n_observations = len(df)\n",
    "\n",
    "# Degrees of freedom (n - 1 for a sample)\n",
    "degrees_of_freedom = n_observations - 1\n",
    "\n",
    "confidence_level = 0.90\n",
    "z_score = stats.norm.ppf((1 + confidence_level) / 2)\n",
    "\n",
    "# Calculate the margin of error\n",
    "margin_of_error =(z_score,degrees_of_freedom) * (sd_quan/ (n_observations ** 0.5))\n",
    "\n",
    "# Calculate the confidence interval\n",
    "confidence_interval_lower = mean_quan - margin_of_error\n",
    "confidence_interval_upper = mean_quan + margin_of_error\n",
    "\n",
    "print(confidence_interval_lower,confidence_interval_upper)\n"
   ]
  },
  {
   "cell_type": "code",
   "execution_count": 52,
   "id": "e0b5b005",
   "metadata": {},
   "outputs": [
    {
     "data": {
      "text/plain": [
       "1.6448536269514722"
      ]
     },
     "execution_count": 52,
     "metadata": {},
     "output_type": "execute_result"
    }
   ],
   "source": [
    "stats.norm.ppf((1 + confidence_level) / 2)"
   ]
  },
  {
   "cell_type": "code",
   "execution_count": null,
   "id": "dbda51ae",
   "metadata": {},
   "outputs": [],
   "source": []
  }
 ],
 "metadata": {
  "kernelspec": {
   "display_name": "Python 3 (ipykernel)",
   "language": "python",
   "name": "python3"
  },
  "language_info": {
   "codemirror_mode": {
    "name": "ipython",
    "version": 3
   },
   "file_extension": ".py",
   "mimetype": "text/x-python",
   "name": "python",
   "nbconvert_exporter": "python",
   "pygments_lexer": "ipython3",
   "version": "3.11.5"
  }
 },
 "nbformat": 4,
 "nbformat_minor": 5
}
