{
 "cells": [
  {
   "cell_type": "code",
   "execution_count": 2,
   "id": "192ef53e",
   "metadata": {},
   "outputs": [
    {
     "name": "stdout",
     "output_type": "stream",
     "text": [
      "    *\n",
      "   ***\n",
      "  *****\n",
      " *******\n",
      "*********\n"
     ]
    }
   ],
   "source": [
    "\n",
    "rows=5\n",
    "\n",
    "for i in range(1,rows+1):\n",
    "   spaces = \" \" * (rows - i)\n",
    "   stars = \"*\" * (2 * i - 1)\n",
    "   print(spaces + stars)\n"
   ]
  },
  {
   "cell_type": "code",
   "execution_count": 3,
   "id": "e2b4d13e",
   "metadata": {},
   "outputs": [
    {
     "name": "stdout",
     "output_type": "stream",
     "text": [
      " ***********\n",
      "  *********\n",
      "   *******\n",
      "    *****\n",
      "     ***\n",
      "      *\n"
     ]
    }
   ],
   "source": [
    "rows=7\n",
    "\n",
    "for i in range(rows - 2, -1, -1):\n",
    "   spaces = \" \" * (rows-i-1)\n",
    "   stars = \"*\" * (2 * i + 1)\n",
    "   print(spaces + stars)\n"
   ]
  },
  {
   "cell_type": "code",
   "execution_count": 4,
   "id": "794057d5",
   "metadata": {},
   "outputs": [
    {
     "name": "stdout",
     "output_type": "stream",
     "text": [
      "    *\n",
      "   ***\n",
      "  *****\n",
      " *******\n",
      "*********\n",
      " *******\n",
      "  *****\n",
      "   ***\n",
      "    *\n"
     ]
    }
   ],
   "source": [
    "rows=5\n",
    "\n",
    "\n",
    "for i in range(1,rows+1):\n",
    "   spaces = \" \" * (rows - i)\n",
    "   stars = \"*\" * (2 * i - 1)\n",
    "   print(spaces + stars)\n",
    "for i in range(rows-1,0,-1):\n",
    "   spaces = \" \" * (rows - i)\n",
    "   stars = \"*\" * (2 * i - 1)\n",
    "   print(spaces + stars)\n",
    " "
   ]
  },
  {
   "cell_type": "code",
   "execution_count": 3,
   "id": "073f332f",
   "metadata": {},
   "outputs": [
    {
     "name": "stdout",
     "output_type": "stream",
     "text": [
      "A\n"
     ]
    }
   ],
   "source": [
    "\n",
    "Percentage=82.7\n",
    "\n",
    "if 85 <= Percentage <= 100:\n",
    "    print(\"O\")\n",
    "elif 75 <= Percentage <= 84.99:\n",
    "    print(\"A\")\n",
    "elif 65 <= Percentage <= 74.99:\n",
    "    print(\"B\")\n",
    "elif 50 <= Percentage <= 64.99:\n",
    "    print(\"C\")\n",
    "elif 35 <= Percentage <= 49.99:\n",
    "    print(\"D\")\n",
    "else:\n",
    "    print(\"Sorry! You didn't pass the exam. Try next time\")"
   ]
  },
  {
   "cell_type": "code",
   "execution_count": null,
   "id": "fa027a2d",
   "metadata": {},
   "outputs": [],
   "source": []
  },
  {
   "cell_type": "code",
   "execution_count": null,
   "id": "0fe2a3dd",
   "metadata": {},
   "outputs": [],
   "source": []
  }
 ],
 "metadata": {
  "kernelspec": {
   "display_name": "Python 3 (ipykernel)",
   "language": "python",
   "name": "python3"
  },
  "language_info": {
   "codemirror_mode": {
    "name": "ipython",
    "version": 3
   },
   "file_extension": ".py",
   "mimetype": "text/x-python",
   "name": "python",
   "nbconvert_exporter": "python",
   "pygments_lexer": "ipython3",
   "version": "3.11.5"
  }
 },
 "nbformat": 4,
 "nbformat_minor": 5
}
