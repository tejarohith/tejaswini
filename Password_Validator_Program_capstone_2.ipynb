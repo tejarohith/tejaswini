{
 "cells": [
  {
   "cell_type": "code",
   "execution_count": null,
   "id": "46c30a49",
   "metadata": {},
   "outputs": [],
   "source": [
    "## create lists for Caps_letters , Symbols, and Numbers and print the results."
   ]
  },
  {
   "cell_type": "code",
   "execution_count": 2,
   "id": "29b30551",
   "metadata": {},
   "outputs": [
    {
     "name": "stdout",
     "output_type": "stream",
     "text": [
      "['A', 'B', 'C', 'D', 'E', 'F', 'G', 'H', 'I', 'J', 'K', 'L', 'M', 'N', 'O', 'P', 'Q', 'R', 'S', 'T', 'U', 'V', 'W', 'X', 'Y', 'Z']\n",
      "['1', '2', '3', '4', '5', '6', '7', '8', '9', '0']\n",
      "['!', '@', '#', '$', '%', '^', '&', '*']\n"
     ]
    }
   ],
   "source": [
    "Caps_letters = ['A', 'B', 'C', 'D', 'E', 'F', 'G', 'H', 'I', 'J', 'K', 'L', 'M', 'N', 'O', 'P', 'Q', 'R', 'S', 'T', 'U', 'V', 'W', 'X', 'Y', 'Z']\n",
    "Numbers = ['1', '2', '3', '4', '5', '6', '7', '8', '9', '0']\n",
    "Symbols = ['!', '@', '#', '$', '%', '^', '&', '*']\n",
    "print(Caps_letters)\n",
    "print(Numbers)\n",
    "print(Symbols)\n"
   ]
  },
  {
   "cell_type": "code",
   "execution_count": null,
   "id": "463188d5",
   "metadata": {},
   "outputs": [],
   "source": [
    "## count the number of characters in the given string using a for loop and print the results.\n",
    "\n",
    "##string = \"Hello_world\""
   ]
  },
  {
   "cell_type": "code",
   "execution_count": 3,
   "id": "f8364151",
   "metadata": {},
   "outputs": [
    {
     "name": "stdout",
     "output_type": "stream",
     "text": [
      "number of characters: 11\n"
     ]
    }
   ],
   "source": [
    "string = \"Hello_world\"\n",
    "count=0\n",
    "for i in string:\n",
    "    count+=1\n",
    "print(\"number of characters:\",count)  "
   ]
  },
  {
   "cell_type": "code",
   "execution_count": null,
   "id": "009a52a8",
   "metadata": {},
   "outputs": [],
   "source": [
    "##  check whether the given string has the first letter as a capital letter or not using a for loop and the Caps_letter list and print the results.\n",
    "\n",
    "#Testcase 01: string = \"Helloworld\"\n",
    "\n",
    "#Testcase 02: string = \"helloworld\""
   ]
  },
  {
   "cell_type": "code",
   "execution_count": 4,
   "id": "cecb3a07",
   "metadata": {},
   "outputs": [
    {
     "name": "stdout",
     "output_type": "stream",
     "text": [
      "Has Capital Letters\n"
     ]
    }
   ],
   "source": [
    "string = \"Helloworld\"\n",
    "\n",
    "Caps_letters = ['A', 'B', 'C', 'D', 'E', 'F', 'G', 'H', 'I', 'J', 'K', 'L', 'M', 'N', 'O', 'P', 'Q', 'R', 'S', 'T', 'U', 'V', 'W', 'X', 'Y', 'Z']\n",
    "\n",
    "first_letter=string[0]if string else none\n",
    "is_first_captial = first_letter in Caps_letters\n",
    "if is_first_captial:\n",
    "        print('Has Capital Letters')\n",
    "else:\n",
    "        print('Does not have Capital Letters')\n",
    "\n",
    "\n",
    "\n"
   ]
  },
  {
   "cell_type": "code",
   "execution_count": null,
   "id": "d24f0100",
   "metadata": {},
   "outputs": [],
   "source": [
    "##check whether the given string contains numbers and special characters or not using nested loop and list.\n",
    "\n",
    "#Test case 01: string = \"Helloworl@d111\"\n",
    "#Test case 02: string = \"Helloworld\""
   ]
  },
  {
   "cell_type": "code",
   "execution_count": 10,
   "id": "891ee93c",
   "metadata": {},
   "outputs": [
    {
     "name": "stdout",
     "output_type": "stream",
     "text": [
      "Has Numbers and Symbols\n"
     ]
    }
   ],
   "source": [
    "string = \"Helloworl@d111\"\n",
    "Numbers = ['1', '2', '3', '4', '5', '6', '7', '8', '9', '0']\n",
    "Symbols = ['!', '@', '#', '$', '%', '^', '&', '*']\n",
    "isNum = 0\n",
    "isSymbol = 0\n",
    "count = 0\n",
    "index = 0\n",
    "\n",
    "for i in string:\n",
    "    count+=1 \n",
    "while index < count :\n",
    "    for i in Numbers:\n",
    "        if(string[index]==i):\n",
    "            isNum = 1\n",
    "            break\n",
    "    for j in Symbols:\n",
    "        if(string[index]==j):\n",
    "            isSymbol=1 \n",
    "            break\n",
    "    index+=1\n",
    "if(isNum == 1 and isSymbol==1):\n",
    "    print(\"Has Numbers and Symbols\")\n",
    "else:\n",
    "    print(\"Does not have either Numbers or Symbols\")"
   ]
  },
  {
   "cell_type": "code",
   "execution_count": null,
   "id": "613ee845",
   "metadata": {},
   "outputs": [],
   "source": [
    " ##check whether the given string contains a blank space and also check the length of it should be greater than 8 characters using a nested loop.\n",
    "Testcase 01: string = \"Hello \"\n",
    "\n",
    "Testcase 02: string = \"HelloWorld\""
   ]
  },
  {
   "cell_type": "code",
   "execution_count": 11,
   "id": "17a5d11d",
   "metadata": {},
   "outputs": [
    {
     "name": "stdout",
     "output_type": "stream",
     "text": [
      "Does have either Blank Space or length is less than 8 characters\n"
     ]
    }
   ],
   "source": [
    "string=\"hello\"\n",
    "Haveblank = 0\n",
    "count = 0\n",
    "index = 0\n",
    "\n",
    "for i in string:\n",
    "    count+=1 \n",
    "while index < count:\n",
    "    if(string[index]==\" \"):\n",
    "        Haveblank = 1\n",
    "        break\n",
    "    index+=1\n",
    "if(Haveblank == 0 and index>8):\n",
    "    print(\"Have no blank space and length is greater than 8 characters\")\n",
    "else:\n",
    "    print(\"Does have either Blank Space or length is less than 8 characters\")\n"
   ]
  },
  {
   "cell_type": "code",
   "execution_count": null,
   "id": "d750d0bc",
   "metadata": {},
   "outputs": [],
   "source": [
    "## Write a program to check if the given password string is against the following given criteria and print the message if the password is valid or not.\n",
    "1. Length should be greater than 8 characters\n",
    "2. Should have the first character as capital.\n",
    "3. Should have no blank space.\n",
    "4 Should have at least one numeric character in it.\n",
    "5. Should have at least one special character in it.\n",
    "Testcase 01: strings = \"Hello@1\"\n",
    "Testcase 02: strings = \"hello@123\"\n",
    "Testcase 03: strings=\"Hello@World\"\n",
    "Testcase 04: strings=\"Hello 1234\"\n",
    "Testcase 05: strings=\"Hello@World123\""
   ]
  },
  {
   "cell_type": "code",
   "execution_count": 12,
   "id": "72b7574a",
   "metadata": {},
   "outputs": [
    {
     "name": "stdout",
     "output_type": "stream",
     "text": [
      "Does not have either Numbers or Symbols\n"
     ]
    }
   ],
   "source": [
    "strings = \"Hello@1\"\n",
    "Numbers = ['1', '2', '3', '4', '5', '6', '7', '8', '9', '0']\n",
    "Symbols = ['!', '@', '#', '$', '%', '^', '&', '*']\n",
    "isNum = 0\n",
    "isSymbol = 0\n",
    "count = 0\n",
    "index = 0\n",
    "\n",
    "for i in string:\n",
    "    count+=1 \n",
    "while index < count :\n",
    "    for i in Numbers:\n",
    "        if(string[index]==i):\n",
    "            isNum = 1\n",
    "            break\n",
    "    for j in Symbols:\n",
    "        if(string[index]==j):\n",
    "            isSymbol=1 \n",
    "            break\n",
    "    index+=1\n",
    "if(isNum == 1 and isSymbol==1):\n",
    "    print(\"Has Numbers and Symbols\")\n",
    "else:\n",
    "    print(\"Does not have either Numbers or Symbols\")"
   ]
  },
  {
   "cell_type": "code",
   "execution_count": null,
   "id": "5cd7166a",
   "metadata": {},
   "outputs": [],
   "source": []
  },
  {
   "cell_type": "code",
   "execution_count": null,
   "id": "92fb642b",
   "metadata": {},
   "outputs": [],
   "source": []
  }
 ],
 "metadata": {
  "kernelspec": {
   "display_name": "Python 3 (ipykernel)",
   "language": "python",
   "name": "python3"
  },
  "language_info": {
   "codemirror_mode": {
    "name": "ipython",
    "version": 3
   },
   "file_extension": ".py",
   "mimetype": "text/x-python",
   "name": "python",
   "nbconvert_exporter": "python",
   "pygments_lexer": "ipython3",
   "version": "3.11.5"
  }
 },
 "nbformat": 4,
 "nbformat_minor": 5
}
