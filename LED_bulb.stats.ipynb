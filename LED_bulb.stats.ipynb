{
 "cells": [
  {
   "cell_type": "code",
   "execution_count": 1,
   "id": "ebd94687",
   "metadata": {},
   "outputs": [],
   "source": [
    "import pandas as pd\n",
    "import numpy as np\n",
    "\n",
    "import seaborn as sns\n",
    "import matplotlib.pyplot as plt\n",
    "\n",
    "from scipy import stats\n",
    "df=pd.read_csv(\"LED Bulb.csv\")"
   ]
  },
  {
   "cell_type": "code",
   "execution_count": 2,
   "id": "11dcf044",
   "metadata": {},
   "outputs": [
    {
     "data": {
      "text/html": [
       "<div>\n",
       "<style scoped>\n",
       "    .dataframe tbody tr th:only-of-type {\n",
       "        vertical-align: middle;\n",
       "    }\n",
       "\n",
       "    .dataframe tbody tr th {\n",
       "        vertical-align: top;\n",
       "    }\n",
       "\n",
       "    .dataframe thead th {\n",
       "        text-align: right;\n",
       "    }\n",
       "</style>\n",
       "<table border=\"1\" class=\"dataframe\">\n",
       "  <thead>\n",
       "    <tr style=\"text-align: right;\">\n",
       "      <th></th>\n",
       "      <th>ProductId</th>\n",
       "      <th>Defect</th>\n",
       "      <th>Assembly Line</th>\n",
       "    </tr>\n",
       "  </thead>\n",
       "  <tbody>\n",
       "    <tr>\n",
       "      <th>0</th>\n",
       "      <td>P116731</td>\n",
       "      <td>0</td>\n",
       "      <td>2</td>\n",
       "    </tr>\n",
       "    <tr>\n",
       "      <th>1</th>\n",
       "      <td>P435720</td>\n",
       "      <td>1</td>\n",
       "      <td>1</td>\n",
       "    </tr>\n",
       "    <tr>\n",
       "      <th>2</th>\n",
       "      <td>P113177</td>\n",
       "      <td>0</td>\n",
       "      <td>2</td>\n",
       "    </tr>\n",
       "    <tr>\n",
       "      <th>3</th>\n",
       "      <td>P488442</td>\n",
       "      <td>0</td>\n",
       "      <td>1</td>\n",
       "    </tr>\n",
       "    <tr>\n",
       "      <th>4</th>\n",
       "      <td>P188067</td>\n",
       "      <td>0</td>\n",
       "      <td>2</td>\n",
       "    </tr>\n",
       "  </tbody>\n",
       "</table>\n",
       "</div>"
      ],
      "text/plain": [
       "  ProductId  Defect  Assembly Line\n",
       "0   P116731       0              2\n",
       "1   P435720       1              1\n",
       "2   P113177       0              2\n",
       "3   P488442       0              1\n",
       "4   P188067       0              2"
      ]
     },
     "execution_count": 2,
     "metadata": {},
     "output_type": "execute_result"
    }
   ],
   "source": [
    "df.head()"
   ]
  },
  {
   "cell_type": "code",
   "execution_count": null,
   "id": "e95bbe0b",
   "metadata": {},
   "outputs": [],
   "source": [
    "## rows, col\n"
   ]
  },
  {
   "cell_type": "code",
   "execution_count": 3,
   "id": "1b37ece7",
   "metadata": {},
   "outputs": [
    {
     "data": {
      "text/plain": [
       "(200, 3)"
      ]
     },
     "execution_count": 3,
     "metadata": {},
     "output_type": "execute_result"
    }
   ],
   "source": [
    "df.shape"
   ]
  },
  {
   "cell_type": "code",
   "execution_count": null,
   "id": "6d2866f7",
   "metadata": {},
   "outputs": [],
   "source": [
    "#### Q2. How many variables are numericals vs categorical?\n"
   ]
  },
  {
   "cell_type": "code",
   "execution_count": 4,
   "id": "a4489ae5",
   "metadata": {},
   "outputs": [
    {
     "name": "stdout",
     "output_type": "stream",
     "text": [
      "<class 'pandas.core.frame.DataFrame'>\n",
      "RangeIndex: 200 entries, 0 to 199\n",
      "Data columns (total 3 columns):\n",
      " #   Column         Non-Null Count  Dtype \n",
      "---  ------         --------------  ----- \n",
      " 0   ProductId      200 non-null    object\n",
      " 1   Defect         200 non-null    int64 \n",
      " 2   Assembly Line  200 non-null    int64 \n",
      "dtypes: int64(2), object(1)\n",
      "memory usage: 4.8+ KB\n"
     ]
    },
    {
     "data": {
      "text/html": [
       "<div>\n",
       "<style scoped>\n",
       "    .dataframe tbody tr th:only-of-type {\n",
       "        vertical-align: middle;\n",
       "    }\n",
       "\n",
       "    .dataframe tbody tr th {\n",
       "        vertical-align: top;\n",
       "    }\n",
       "\n",
       "    .dataframe thead th {\n",
       "        text-align: right;\n",
       "    }\n",
       "</style>\n",
       "<table border=\"1\" class=\"dataframe\">\n",
       "  <thead>\n",
       "    <tr style=\"text-align: right;\">\n",
       "      <th></th>\n",
       "      <th>Defect</th>\n",
       "      <th>Assembly Line</th>\n",
       "    </tr>\n",
       "  </thead>\n",
       "  <tbody>\n",
       "    <tr>\n",
       "      <th>count</th>\n",
       "      <td>200.000000</td>\n",
       "      <td>200.000000</td>\n",
       "    </tr>\n",
       "    <tr>\n",
       "      <th>mean</th>\n",
       "      <td>0.080000</td>\n",
       "      <td>1.975000</td>\n",
       "    </tr>\n",
       "    <tr>\n",
       "      <th>std</th>\n",
       "      <td>0.271974</td>\n",
       "      <td>0.798475</td>\n",
       "    </tr>\n",
       "    <tr>\n",
       "      <th>min</th>\n",
       "      <td>0.000000</td>\n",
       "      <td>1.000000</td>\n",
       "    </tr>\n",
       "    <tr>\n",
       "      <th>25%</th>\n",
       "      <td>0.000000</td>\n",
       "      <td>1.000000</td>\n",
       "    </tr>\n",
       "    <tr>\n",
       "      <th>50%</th>\n",
       "      <td>0.000000</td>\n",
       "      <td>2.000000</td>\n",
       "    </tr>\n",
       "    <tr>\n",
       "      <th>75%</th>\n",
       "      <td>0.000000</td>\n",
       "      <td>3.000000</td>\n",
       "    </tr>\n",
       "    <tr>\n",
       "      <th>max</th>\n",
       "      <td>1.000000</td>\n",
       "      <td>3.000000</td>\n",
       "    </tr>\n",
       "  </tbody>\n",
       "</table>\n",
       "</div>"
      ],
      "text/plain": [
       "           Defect  Assembly Line\n",
       "count  200.000000     200.000000\n",
       "mean     0.080000       1.975000\n",
       "std      0.271974       0.798475\n",
       "min      0.000000       1.000000\n",
       "25%      0.000000       1.000000\n",
       "50%      0.000000       2.000000\n",
       "75%      0.000000       3.000000\n",
       "max      1.000000       3.000000"
      ]
     },
     "execution_count": 4,
     "metadata": {},
     "output_type": "execute_result"
    }
   ],
   "source": [
    "df.info()\n",
    "df.describe()"
   ]
  },
  {
   "cell_type": "code",
   "execution_count": null,
   "id": "2eda8ddb",
   "metadata": {},
   "outputs": [],
   "source": [
    "#### Observations:\n",
    "1. Overall 2 variables are int64 type and 1 variable object type.\n",
    "2. Assemply line is also an ordinal categorical variable along with Product Id as we have limited values in it (cardinality = 3).\n",
    "3. In the similar manner, Defect is a nominal categorical variable with limited values (cardinality = 2)."
   ]
  },
  {
   "cell_type": "code",
   "execution_count": null,
   "id": "ab48a6a3",
   "metadata": {},
   "outputs": [],
   "source": [
    "#### Q3. Are there any inconsistencies withi the data? For instance, nulls, duplicates, outliers or garbage values\n"
   ]
  },
  {
   "cell_type": "code",
   "execution_count": null,
   "id": "0f9ea667",
   "metadata": {},
   "outputs": [],
   "source": [
    "duplicate values"
   ]
  },
  {
   "cell_type": "code",
   "execution_count": 5,
   "id": "c04afa2e",
   "metadata": {},
   "outputs": [
    {
     "data": {
      "text/plain": [
       "0"
      ]
     },
     "execution_count": 5,
     "metadata": {},
     "output_type": "execute_result"
    }
   ],
   "source": [
    "df.duplicated().sum()"
   ]
  },
  {
   "cell_type": "code",
   "execution_count": null,
   "id": "a8887f80",
   "metadata": {},
   "outputs": [],
   "source": [
    "identy null values"
   ]
  },
  {
   "cell_type": "code",
   "execution_count": 6,
   "id": "b787fc0b",
   "metadata": {},
   "outputs": [
    {
     "data": {
      "text/plain": [
       "ProductId        0\n",
       "Defect           0\n",
       "Assembly Line    0\n",
       "dtype: int64"
      ]
     },
     "execution_count": 6,
     "metadata": {},
     "output_type": "execute_result"
    }
   ],
   "source": [
    "df.isnull().sum()"
   ]
  },
  {
   "cell_type": "code",
   "execution_count": null,
   "id": "85e48c6d",
   "metadata": {},
   "outputs": [],
   "source": [
    "#### Observations:\n",
    "1. There are no nulls involved as its evident from info function.\n",
    "2. There are no duplicates involved in the dataset.\n",
    "3. There are no garbage values.\n",
    "4. There are no extremes. Only thing is we have very less defects present within the dataset which makes this defect variable highly imbalanced."
   ]
  },
  {
   "cell_type": "code",
   "execution_count": null,
   "id": "8ea7a041",
   "metadata": {},
   "outputs": [],
   "source": [
    "#### Q4. Perform univariate analysis on the variables"
   ]
  },
  {
   "cell_type": "code",
   "execution_count": 27,
   "id": "82b10d2c",
   "metadata": {},
   "outputs": [
    {
     "data": {
      "text/plain": [
       "Defect\n",
       "0    0.92\n",
       "1    0.08\n",
       "Name: proportion, dtype: float64"
      ]
     },
     "execution_count": 27,
     "metadata": {},
     "output_type": "execute_result"
    }
   ],
   "source": [
    "df.Defect.value_counts(normalize=True)"
   ]
  },
  {
   "cell_type": "code",
   "execution_count": 8,
   "id": "f95327f8",
   "metadata": {},
   "outputs": [
    {
     "data": {
      "image/png": "[encoded data removed]",
      "text/plain": [
       "<Figure size 640x480 with 1 Axes>"
      ]
     },
     "metadata": {},
     "output_type": "display_data"
    },
    {
     "data": {
      "image/png": "[encoded data removed]",
      "text/plain": [
       "<Figure size 640x480 with 1 Axes>"
      ]
     },
     "metadata": {},
     "output_type": "display_data"
    }
   ],
   "source": [
    "df.Defect.value_counts(normalize=True).plot(kind = 'bar')\n",
    "plt.title('Frequency distribution of defects')\n",
    "plt.show()\n",
    "df['Assembly Line'].value_counts(normalize=True).plot(kind = 'bar')\n",
    "plt.title('Frequency distribution of Assembly lines')\n",
    "plt.show()"
   ]
  },
  {
   "cell_type": "code",
   "execution_count": null,
   "id": "0c53fcbf",
   "metadata": {},
   "outputs": [],
   "source": [
    "#### Observations:\n",
    "1. There are not many observations towards the actual defect values which is actually a good news as the assembly lines are working as expected.\n",
    "2. We are seeing highest number of observations for assembly line 2 followed by 1 and then 3."
   ]
  },
  {
   "cell_type": "code",
   "execution_count": null,
   "id": "2e20b5c5",
   "metadata": {},
   "outputs": [],
   "source": [
    "#### Q5. Perform bivariate analysis on the variables"
   ]
  },
  {
   "cell_type": "code",
   "execution_count": 33,
   "id": "dbbf9d43",
   "metadata": {},
   "outputs": [
    {
     "ename": "ValueError",
     "evalue": "could not convert string to float: 'P116731'",
     "output_type": "error",
     "traceback": [
      "\u001b[1;31m---------------------------------------------------------------------------\u001b[0m",
      "\u001b[1;31mValueError\u001b[0m                                Traceback (most recent call last)",
      "Cell \u001b[1;32mIn[33], line 1\u001b[0m\n\u001b[1;32m----> 1\u001b[0m df\u001b[38;5;241m.\u001b[39mcorr()[\u001b[38;5;124m\"\u001b[39m\u001b[38;5;124mDefect\u001b[39m\u001b[38;5;124m\"\u001b[39m]\n",
      "File \u001b[1;32m~\\anaconda3\\Lib\\site-packages\\pandas\\core\\frame.py:10054\u001b[0m, in \u001b[0;36mDataFrame.corr\u001b[1;34m(self, method, min_periods, numeric_only)\u001b[0m\n\u001b[0;32m  10052\u001b[0m cols \u001b[38;5;241m=\u001b[39m data\u001b[38;5;241m.\u001b[39mcolumns\n\u001b[0;32m  10053\u001b[0m idx \u001b[38;5;241m=\u001b[39m cols\u001b[38;5;241m.\u001b[39mcopy()\n\u001b[1;32m> 10054\u001b[0m mat \u001b[38;5;241m=\u001b[39m data\u001b[38;5;241m.\u001b[39mto_numpy(dtype\u001b[38;5;241m=\u001b[39m\u001b[38;5;28mfloat\u001b[39m, na_value\u001b[38;5;241m=\u001b[39mnp\u001b[38;5;241m.\u001b[39mnan, copy\u001b[38;5;241m=\u001b[39m\u001b[38;5;28;01mFalse\u001b[39;00m)\n\u001b[0;32m  10056\u001b[0m \u001b[38;5;28;01mif\u001b[39;00m method \u001b[38;5;241m==\u001b[39m \u001b[38;5;124m\"\u001b[39m\u001b[38;5;124mpearson\u001b[39m\u001b[38;5;124m\"\u001b[39m:\n\u001b[0;32m  10057\u001b[0m     correl \u001b[38;5;241m=\u001b[39m libalgos\u001b[38;5;241m.\u001b[39mnancorr(mat, minp\u001b[38;5;241m=\u001b[39mmin_periods)\n",
      "File \u001b[1;32m~\\anaconda3\\Lib\\site-packages\\pandas\\core\\frame.py:1838\u001b[0m, in \u001b[0;36mDataFrame.to_numpy\u001b[1;34m(self, dtype, copy, na_value)\u001b[0m\n\u001b[0;32m   1836\u001b[0m \u001b[38;5;28;01mif\u001b[39;00m dtype \u001b[38;5;129;01mis\u001b[39;00m \u001b[38;5;129;01mnot\u001b[39;00m \u001b[38;5;28;01mNone\u001b[39;00m:\n\u001b[0;32m   1837\u001b[0m     dtype \u001b[38;5;241m=\u001b[39m np\u001b[38;5;241m.\u001b[39mdtype(dtype)\n\u001b[1;32m-> 1838\u001b[0m result \u001b[38;5;241m=\u001b[39m \u001b[38;5;28mself\u001b[39m\u001b[38;5;241m.\u001b[39m_mgr\u001b[38;5;241m.\u001b[39mas_array(dtype\u001b[38;5;241m=\u001b[39mdtype, copy\u001b[38;5;241m=\u001b[39mcopy, na_value\u001b[38;5;241m=\u001b[39mna_value)\n\u001b[0;32m   1839\u001b[0m \u001b[38;5;28;01mif\u001b[39;00m result\u001b[38;5;241m.\u001b[39mdtype \u001b[38;5;129;01mis\u001b[39;00m \u001b[38;5;129;01mnot\u001b[39;00m dtype:\n\u001b[0;32m   1840\u001b[0m     result \u001b[38;5;241m=\u001b[39m np\u001b[38;5;241m.\u001b[39marray(result, dtype\u001b[38;5;241m=\u001b[39mdtype, copy\u001b[38;5;241m=\u001b[39m\u001b[38;5;28;01mFalse\u001b[39;00m)\n",
      "File \u001b[1;32m~\\anaconda3\\Lib\\site-packages\\pandas\\core\\internals\\managers.py:1732\u001b[0m, in \u001b[0;36mBlockManager.as_array\u001b[1;34m(self, dtype, copy, na_value)\u001b[0m\n\u001b[0;32m   1730\u001b[0m         arr\u001b[38;5;241m.\u001b[39mflags\u001b[38;5;241m.\u001b[39mwriteable \u001b[38;5;241m=\u001b[39m \u001b[38;5;28;01mFalse\u001b[39;00m\n\u001b[0;32m   1731\u001b[0m \u001b[38;5;28;01melse\u001b[39;00m:\n\u001b[1;32m-> 1732\u001b[0m     arr \u001b[38;5;241m=\u001b[39m \u001b[38;5;28mself\u001b[39m\u001b[38;5;241m.\u001b[39m_interleave(dtype\u001b[38;5;241m=\u001b[39mdtype, na_value\u001b[38;5;241m=\u001b[39mna_value)\n\u001b[0;32m   1733\u001b[0m     \u001b[38;5;66;03m# The underlying data was copied within _interleave, so no need\u001b[39;00m\n\u001b[0;32m   1734\u001b[0m     \u001b[38;5;66;03m# to further copy if copy=True or setting na_value\u001b[39;00m\n\u001b[0;32m   1736\u001b[0m \u001b[38;5;28;01mif\u001b[39;00m na_value \u001b[38;5;129;01mis\u001b[39;00m \u001b[38;5;129;01mnot\u001b[39;00m lib\u001b[38;5;241m.\u001b[39mno_default:\n",
      "File \u001b[1;32m~\\anaconda3\\Lib\\site-packages\\pandas\\core\\internals\\managers.py:1794\u001b[0m, in \u001b[0;36mBlockManager._interleave\u001b[1;34m(self, dtype, na_value)\u001b[0m\n\u001b[0;32m   1792\u001b[0m     \u001b[38;5;28;01melse\u001b[39;00m:\n\u001b[0;32m   1793\u001b[0m         arr \u001b[38;5;241m=\u001b[39m blk\u001b[38;5;241m.\u001b[39mget_values(dtype)\n\u001b[1;32m-> 1794\u001b[0m     result[rl\u001b[38;5;241m.\u001b[39mindexer] \u001b[38;5;241m=\u001b[39m arr\n\u001b[0;32m   1795\u001b[0m     itemmask[rl\u001b[38;5;241m.\u001b[39mindexer] \u001b[38;5;241m=\u001b[39m \u001b[38;5;241m1\u001b[39m\n\u001b[0;32m   1797\u001b[0m \u001b[38;5;28;01mif\u001b[39;00m \u001b[38;5;129;01mnot\u001b[39;00m itemmask\u001b[38;5;241m.\u001b[39mall():\n",
      "\u001b[1;31mValueError\u001b[0m: could not convert string to float: 'P116731'"
     ]
    }
   ],
   "source": [
    "df.corr()[\"Defect\"]"
   ]
  },
  {
   "cell_type": "code",
   "execution_count": null,
   "id": "86c27660",
   "metadata": {},
   "outputs": [],
   "source": [
    "#### Let's witness the impact of individual assembly Lines"
   ]
  },
  {
   "cell_type": "code",
   "execution_count": 12,
   "id": "bb340717",
   "metadata": {},
   "outputs": [
    {
     "data": {
      "image/png": "[encoded data removed]",
      "text/plain": [
       "<Figure size 640x480 with 2 Axes>"
      ]
     },
     "metadata": {},
     "output_type": "display_data"
    }
   ],
   "source": [
    "sns.heatmap(pd.crosstab(index = df['Assembly Line'], columns=df.Defect), cmap='Accent_r')\n",
    "plt.title('Defect vs Assembly line')\n",
    "plt.show()"
   ]
  },
  {
   "cell_type": "code",
   "execution_count": null,
   "id": "187015bc",
   "metadata": {},
   "outputs": [],
   "source": [
    "#### Hmm, so we don't see much of a difference in between different assembly lines. Let's try to analyze only the defects.\n",
    "\n",
    "#### Q6. Determine the probabilities for defects in individual assemble lines and plot it using visualization."
   ]
  },
  {
   "cell_type": "code",
   "execution_count": 25,
   "id": "eba7c1b1",
   "metadata": {
    "scrolled": true
   },
   "outputs": [
    {
     "data": {
      "text/html": [
       "<div>\n",
       "<style scoped>\n",
       "    .dataframe tbody tr th:only-of-type {\n",
       "        vertical-align: middle;\n",
       "    }\n",
       "\n",
       "    .dataframe tbody tr th {\n",
       "        vertical-align: top;\n",
       "    }\n",
       "\n",
       "    .dataframe thead th {\n",
       "        text-align: right;\n",
       "    }\n",
       "</style>\n",
       "<table border=\"1\" class=\"dataframe\">\n",
       "  <thead>\n",
       "    <tr style=\"text-align: right;\">\n",
       "      <th>Defect</th>\n",
       "      <th>0</th>\n",
       "      <th>1</th>\n",
       "    </tr>\n",
       "    <tr>\n",
       "      <th>Assembly Line</th>\n",
       "      <th></th>\n",
       "      <th></th>\n",
       "    </tr>\n",
       "  </thead>\n",
       "  <tbody>\n",
       "    <tr>\n",
       "      <th>1</th>\n",
       "      <td>61</td>\n",
       "      <td>5</td>\n",
       "    </tr>\n",
       "    <tr>\n",
       "      <th>2</th>\n",
       "      <td>69</td>\n",
       "      <td>4</td>\n",
       "    </tr>\n",
       "    <tr>\n",
       "      <th>3</th>\n",
       "      <td>54</td>\n",
       "      <td>7</td>\n",
       "    </tr>\n",
       "  </tbody>\n",
       "</table>\n",
       "</div>"
      ],
      "text/plain": [
       "Defect          0  1\n",
       "Assembly Line       \n",
       "1              61  5\n",
       "2              69  4\n",
       "3              54  7"
      ]
     },
     "execution_count": 25,
     "metadata": {},
     "output_type": "execute_result"
    }
   ],
   "source": [
    "pivot_table = df.pivot_table(values = 'Defect', index = 'Assembly Line', columns = 'Defect', aggfunc = 'count')\n",
    "pivot_table"
   ]
  },
  {
   "cell_type": "code",
   "execution_count": 14,
   "id": "af3851b6",
   "metadata": {},
   "outputs": [
    {
     "data": {
      "text/html": [
       "<div>\n",
       "<style scoped>\n",
       "    .dataframe tbody tr th:only-of-type {\n",
       "        vertical-align: middle;\n",
       "    }\n",
       "\n",
       "    .dataframe tbody tr th {\n",
       "        vertical-align: top;\n",
       "    }\n",
       "\n",
       "    .dataframe thead th {\n",
       "        text-align: right;\n",
       "    }\n",
       "</style>\n",
       "<table border=\"1\" class=\"dataframe\">\n",
       "  <thead>\n",
       "    <tr style=\"text-align: right;\">\n",
       "      <th></th>\n",
       "      <th>Assemble Line</th>\n",
       "      <th>Total Defects</th>\n",
       "      <th>Total observations</th>\n",
       "      <th>Proportion</th>\n",
       "    </tr>\n",
       "  </thead>\n",
       "  <tbody>\n",
       "    <tr>\n",
       "      <th>0</th>\n",
       "      <td>1</td>\n",
       "      <td>5</td>\n",
       "      <td>66</td>\n",
       "      <td>0.075758</td>\n",
       "    </tr>\n",
       "    <tr>\n",
       "      <th>1</th>\n",
       "      <td>2</td>\n",
       "      <td>4</td>\n",
       "      <td>73</td>\n",
       "      <td>0.054795</td>\n",
       "    </tr>\n",
       "    <tr>\n",
       "      <th>2</th>\n",
       "      <td>3</td>\n",
       "      <td>7</td>\n",
       "      <td>61</td>\n",
       "      <td>0.114754</td>\n",
       "    </tr>\n",
       "  </tbody>\n",
       "</table>\n",
       "</div>"
      ],
      "text/plain": [
       "   Assemble Line  Total Defects  Total observations  Proportion\n",
       "0              1              5                  66    0.075758\n",
       "1              2              4                  73    0.054795\n",
       "2              3              7                  61    0.114754"
      ]
     },
     "execution_count": 14,
     "metadata": {},
     "output_type": "execute_result"
    }
   ],
   "source": [
    "temp = df.groupby('Assembly Line').agg({'Defect': ['sum', 'count']}).reset_index()\n",
    "temp.columns = ['Assemble Line', 'Total Defects', 'Total observations']\n",
    "temp['Proportion'] = temp['Total Defects'] / temp['Total observations']\n",
    "temp"
   ]
  },
  {
   "cell_type": "code",
   "execution_count": 15,
   "id": "4a64d5bb",
   "metadata": {},
   "outputs": [
    {
     "data": {
      "image/png": "[encoded data removed]",
      "text/plain": [
       "<Figure size 1000x500 with 2 Axes>"
      ]
     },
     "metadata": {},
     "output_type": "display_data"
    }
   ],
   "source": [
    "ax1 = sns.set_style(style=None, rc=None )\n",
    "\n",
    "fig, ax1 = plt.subplots(figsize=(10,5))\n",
    "\n",
    "sns.lineplot(data = temp['Proportion'], marker='o', sort = False, ax=ax1)\n",
    "ax2 = ax1.twinx()\n",
    "\n",
    "sns.barplot(data = temp, x='Assemble Line', y='Total observations', alpha=0.5, ax=ax2)\n",
    "ax1.set_xlabel('Assembly Line')\n",
    "ax1.set_ylabel('Proportions for line plot')\n",
    "ax2.set_ylabel('Observations for bar plot')\n",
    "plt.show()"
   ]
  },
  {
   "cell_type": "code",
   "execution_count": null,
   "id": "c26a149d",
   "metadata": {},
   "outputs": [],
   "source": [
    "#### Observations:\n",
    "\n",
    "So, we have highest set of observations of assembly line 2 but highest number of defects are coming for Assemble line 3.\n",
    "\n",
    "**Probability for Defect in Assemble line 1:** 0.075758\n",
    "\n",
    "**Probability for Defect in Assemble line 2:** 0.054795\n",
    "\n",
    "**Probability for Defect in Assemble line 3:** 0.114754"
   ]
  },
  {
   "cell_type": "code",
   "execution_count": null,
   "id": "1e9e9226",
   "metadata": {},
   "outputs": [],
   "source": [
    "#### Q7. With the calculated probabilities, let's try to answer following questions for 20 samples drawn at random from different assembly lines.\n",
    "\n",
    "7.1. Check out the binomial distributions of probabilities from 0 to 20 defects from 20 samples drawn at random from 3 different assembly lines"
   ]
  },
  {
   "cell_type": "code",
   "execution_count": 17,
   "id": "e9e1eb45",
   "metadata": {},
   "outputs": [
    {
     "data": {
      "text/plain": [
       "array([ 0,  1,  2,  3,  4,  5,  6,  7,  8,  9, 10, 11, 12, 13, 14, 15, 16,\n",
       "       17, 18, 19, 20])"
      ]
     },
     "execution_count": 17,
     "metadata": {},
     "output_type": "execute_result"
    }
   ],
   "source": [
    "p1 = 0.075758\n",
    "n1 = 20\n",
    "\n",
    "p2 = 0.054795\n",
    "n2 = 20\n",
    "\n",
    "p3 = 0.114754\n",
    "n3 = 20\n",
    "\n",
    "k = np.arange(0,21)\n",
    "k"
   ]
  },
  {
   "cell_type": "code",
   "execution_count": 18,
   "id": "53881634",
   "metadata": {},
   "outputs": [
    {
     "data": {
      "text/plain": [
       "array([2.06877854e-01, 3.39146078e-01, 2.64090759e-01, 1.29881488e-01,\n",
       "       4.52458745e-02, 1.18678423e-02, 2.43194963e-03, 3.98682682e-04,\n",
       "       5.31035479e-05, 5.80370160e-06, 5.23287741e-07, 3.89933615e-08,\n",
       "       2.39714740e-09, 1.20916112e-10, 4.95560840e-12, 1.62479949e-13,\n",
       "       4.16190914e-15, 8.02687437e-17, 1.09657418e-18, 9.46143939e-21,\n",
       "       3.87766259e-23])"
      ]
     },
     "execution_count": 18,
     "metadata": {},
     "output_type": "execute_result"
    }
   ],
   "source": [
    "binomial1 = stats.binom.pmf(k,n1,p1)\n",
    "binomial2 = stats.binom.pmf(k,n2,p2)\n",
    "binomial3 = stats.binom.pmf(k,n3,p3)\n",
    "\n",
    "binomial1"
   ]
  },
  {
   "cell_type": "code",
   "execution_count": 19,
   "id": "427d74b0",
   "metadata": {},
   "outputs": [
    {
     "data": {
      "image/png": "[encoded data removed]",
      "text/plain": [
       "<Figure size 1200x300 with 3 Axes>"
      ]
     },
     "metadata": {},
     "output_type": "display_data"
    }
   ],
   "source": [
    "# plot the distribution\n",
    "_,ax = plt.subplots(ncols=3, figsize=(12,3))\n",
    "\n",
    "ax[0].bar(k,binomial1)\n",
    "ax[0].set_title('Binomial: n=%i , p=%.2f' % (n1,p1))\n",
    "ax[0].set_xlabel('Number of Successes')\n",
    "ax[0].set_ylabel('Probability of Successes')\n",
    "\n",
    "ax[1].bar(k,binomial2)\n",
    "ax[1].set_title('Binomial: n=%i , p=%.2f' % (n2,p2))\n",
    "ax[1].set_xlabel('Number of Successes')\n",
    "\n",
    "ax[2].bar(k,binomial3)\n",
    "ax[2].set_title('Binomial: n=%i , p=%.2f' % (n3,p3))\n",
    "ax[2].set_xlabel('Number of Successes')\n",
    "plt.show()"
   ]
  },
  {
   "cell_type": "code",
   "execution_count": null,
   "id": "e1c0685a",
   "metadata": {},
   "outputs": [],
   "source": [
    "#### Observations:\n",
    "\n",
    "1. It's clearly visible that as we move towards the higher set of defect probabilities in assembly line 3, the chances of getting lower set of defects are highest in it followed by assembly line 1 and assembly line 2 respectively."
   ]
  },
  {
   "cell_type": "code",
   "execution_count": null,
   "id": "29c587fa",
   "metadata": {},
   "outputs": [],
   "source": [
    "**7.2. What is the probability that two or fewer of the LED bulbs are defective for assembly line 1?**"
   ]
  },
  {
   "cell_type": "code",
   "execution_count": 20,
   "id": "3019708b",
   "metadata": {},
   "outputs": [
    {
     "data": {
      "text/plain": [
       "0.8101146907434262"
      ]
     },
     "execution_count": 20,
     "metadata": {},
     "output_type": "execute_result"
    }
   ],
   "source": [
    "# two or fewer - 0,1,2\n",
    "\n",
    "# P(0) + P(1) + P(2)\n",
    "binomial1[0] + binomial1[1] + binomial1[2]"
   ]
  },
  {
   "cell_type": "code",
   "execution_count": 21,
   "id": "bf810867",
   "metadata": {},
   "outputs": [
    {
     "name": "stdout",
     "output_type": "stream",
     "text": [
      "0.8101146907434262\n"
     ]
    }
   ],
   "source": [
    "cumulative_binomial = stats.binom.cdf(k,n1,p1)\n",
    "print(cumulative_binomial[2])"
   ]
  },
  {
   "cell_type": "code",
   "execution_count": null,
   "id": "ac78558a",
   "metadata": {},
   "outputs": [],
   "source": [
    "**7.3. What is the probability that at least 3 of the LED bulbs are defective for assembly line 1?**"
   ]
  },
  {
   "cell_type": "code",
   "execution_count": 22,
   "id": "ad43bf1c",
   "metadata": {},
   "outputs": [
    {
     "name": "stdout",
     "output_type": "stream",
     "text": [
      "0.18988530925657376\n"
     ]
    }
   ],
   "source": [
    "print(1 - cumulative_binomial[2])"
   ]
  },
  {
   "cell_type": "code",
   "execution_count": null,
   "id": "0b7a0cf7",
   "metadata": {},
   "outputs": [],
   "source": [
    "**7.4 Which number of success witness the highest chances of occurrence in assembly line 3?**"
   ]
  },
  {
   "cell_type": "code",
   "execution_count": 23,
   "id": "511f1f3b",
   "metadata": {},
   "outputs": [
    {
     "name": "stdout",
     "output_type": "stream",
     "text": [
      "Number of success witness the highest chances of occurrence in assembly line 3: 1\n"
     ]
    }
   ],
   "source": [
    "print(f'Number of success witness the highest chances of occurrence in assembly line 3: {np.argmax(binomial1)}')"
   ]
  },
  {
   "cell_type": "code",
   "execution_count": 24,
   "id": "32697f3c",
   "metadata": {},
   "outputs": [
    {
     "data": {
      "text/plain": [
       "array([8.73533292e-02, 2.26471375e-01, 2.78895034e-01, 2.16918150e-01,\n",
       "       1.19505717e-01, 4.95726938e-02, 1.60652093e-02, 4.16505023e-03,\n",
       "       8.77359268e-04, 1.51642196e-04, 2.16230329e-05, 2.54816639e-06,\n",
       "       2.47738160e-07, 1.97625691e-08, 1.28090602e-09, 6.64172847e-11,\n",
       "       2.69051240e-12, 8.20634795e-14, 1.77297469e-15, 2.41926137e-17,\n",
       "       1.56803826e-19])"
      ]
     },
     "execution_count": 24,
     "metadata": {},
     "output_type": "execute_result"
    }
   ],
   "source": [
    "binomial3"
   ]
  },
  {
   "cell_type": "code",
   "execution_count": null,
   "id": "7b45ac35",
   "metadata": {},
   "outputs": [],
   "source": []
  },
  {
   "cell_type": "code",
   "execution_count": null,
   "id": "1b22f8fb",
   "metadata": {},
   "outputs": [],
   "source": []
  },
  {
   "cell_type": "code",
   "execution_count": null,
   "id": "0f0d5ca1",
   "metadata": {},
   "outputs": [],
   "source": []
  }
 ],
 "metadata": {
  "kernelspec": {
   "display_name": "Python 3 (ipykernel)",
   "language": "python",
   "name": "python3"
  },
  "language_info": {
   "codemirror_mode": {
    "name": "ipython",
    "version": 3
   },
   "file_extension": ".py",
   "mimetype": "text/x-python",
   "name": "python",
   "nbconvert_exporter": "python",
   "pygments_lexer": "ipython3",
   "version": "3.11.5"
  }
 },
 "nbformat": 4,
 "nbformat_minor": 5
}
